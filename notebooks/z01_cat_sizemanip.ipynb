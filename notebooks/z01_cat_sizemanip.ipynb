{
 "cells": [
  {
   "cell_type": "code",
   "execution_count": 7,
   "metadata": {},
   "outputs": [
    {
     "data": {
      "text/plain": [
       "<module 'rsatools' from '/home/jacobpri/git/RotspaceIT/notebooks/rsatools.py'>"
      ]
     },
     "execution_count": 7,
     "metadata": {},
     "output_type": "execute_result"
    }
   ],
   "source": [
    "import numpy as np\n",
    "import matplotlib.pyplot as plt\n",
    "import seaborn as sns\n",
    "import os\n",
    "from os.path import exists, join\n",
    "import sys\n",
    "import copy\n",
    "\n",
    "import scipy.io as sio\n",
    "import importlib\n",
    "import nnutils as utils\n",
    "import rsatools as rsa\n",
    "\n",
    "importlib.reload(utils)\n",
    "importlib.reload(rsa)\n"
   ]
  },
  {
   "cell_type": "code",
   "execution_count": 8,
   "metadata": {},
   "outputs": [],
   "source": [
    "arch = 'alexnet'\n",
    "trained_on = 'object'\n",
    "imageset = 'tripartite'\n",
    "img_dim = 224\n",
    "batch_size = 40\n",
    "FDR_threshold = 0.05\n",
    "overwrite = True\n",
    "\n",
    "save_as = '.npy'\n",
    "save_layer_rdvs = False\n",
    "rdv_dist = 'correlation'\n",
    "verbose = False\n",
    "draw_plots = False"
   ]
  },
  {
   "cell_type": "code",
   "execution_count": 9,
   "metadata": {},
   "outputs": [],
   "source": [
    "homedir = '/home/jacobpri/git/RotspaceIT/'\n",
    "weight_dir = join(homedir,'data','d02_modeling','weights')\n",
    "\n",
    "network = arch + '-' + trained_on\n",
    "FDR_str = str(FDR_threshold).replace('.','-')\n",
    "activation_savedir = join(homedir,'data','d02_modeling','activations',network,'localizer',imageset,'dim'+str(img_dim))\n",
    "os.makedirs(activation_savedir,exist_ok=True)"
   ]
  },
  {
   "cell_type": "code",
   "execution_count": 10,
   "metadata": {},
   "outputs": [],
   "source": [
    "imageset_dir = join(homedir,'imagesets','localizer',imageset)\n",
    "assert(exists(imageset_dir))\n",
    "\n",
    "floc_savedir = join(homedir,'data','d02_modeling','selectivity',network, 'localizer',imageset,'dim'+str(img_dim))\n",
    "os.makedirs(floc_savedir,exist_ok=True)\n",
    "\n",
    "utils.reproducible_results(365)\n"
   ]
  },
  {
   "cell_type": "code",
   "execution_count": 11,
   "metadata": {},
   "outputs": [
    {
     "name": "stdout",
     "output_type": "stream",
     "text": [
      "/home/jacobpri/git/RotspaceIT/data/d02_modeling/selectivity/alexnet-object/localizer/tripartite/dim224/layer_pref_dicts_FDR_p_0-05.npy\n",
      "preference dict already exists. loading...\n"
     ]
    }
   ],
   "source": [
    "floc_str = f'layer_pref_dicts_FDR_p_{FDR_str}.npy'\n",
    "floc_fullsave_fn = join(floc_savedir,floc_str)\n",
    "print(floc_fullsave_fn)\n",
    "\n",
    "if exists(floc_fullsave_fn):\n",
    "    print('preference dict already exists. loading...')\n",
    "    pref_dicts = np.load(floc_fullsave_fn,allow_pickle=True).item()\n",
    "else:\n",
    "    print('preference dict not found')"
   ]
  },
  {
   "cell_type": "code",
   "execution_count": 13,
   "metadata": {},
   "outputs": [],
   "source": [
    "exp_imageset = 'size-manip'\n",
    "min_n_units = 5\n",
    "exp_activation_savedir = join(homedir,'data','d02_modeling','activations',network,'experimental',exp_imageset,'dim'+str(img_dim))\n",
    "assert(exists(exp_activation_savedir))\n",
    "\n",
    "output_act_dir = join(homedir,'outputs','cat-size-manip','activations')\n",
    "output_fig_dir = join(homedir,'outputs','cat-size-manip','figures')\n",
    "output_rdm_dir = join(homedir,'outputs','cat-size-manip','rdms')\n",
    "\n",
    "for d in [output_act_dir, output_fig_dir, output_rdm_dir]:\n",
    "    if not exists(d):\n",
    "        os.makedirs(d,exist_ok=True)\n",
    "\n",
    "for layer in list(pref_dicts.keys()):\n",
    "    \n",
    "    layer_ = layer.split('_')[1]\n",
    "    \n",
    "    Y = utils.load_batched_activations(exp_activation_savedir, layer, batch_size, reshape_to_2D = True)\n",
    "    \n",
    "    pref_large_obj_idx = pref_dicts[layer]['domain_idx'][1]\n",
    "    pref_small_obj_idx = pref_dicts[layer]['domain_idx'][2]\n",
    "    \n",
    "    Y_large = Y[:,pref_large_obj_idx]\n",
    "    Y_small = Y[:,pref_small_obj_idx]\n",
    "    \n",
    "    fn_large = join(output_act_dir, f'pref_BigInanimate_{layer}_activations.npy')\n",
    "    fn_small = join(output_act_dir, f'pref_SmallInanimate_{layer}_activations.npy')\n",
    "    \n",
    "    np.save(fn_large, Y_large)\n",
    "    np.save(fn_small, Y_small)\n",
    "    \n",
    "    if len(pref_large_obj_idx) > min_n_units and len(pref_small_obj_idx) > min_n_units:\n",
    "        \n",
    "        Y_large_rdm = rsa.rdm(Y[:,pref_large_obj_idx])\n",
    "        Y_small_rdm = rsa.rdm(Y[:,pref_small_obj_idx])\n",
    "        \n",
    "        plt.figure(figsize=(18,14))\n",
    "        plt.subplot(221)\n",
    "        plt.imshow(Y_large,aspect='auto')\n",
    "        plt.title(f\"activations - {layer_}:\\n pref BigInanimate (n={len(pref_large_obj_idx)} units)\")\n",
    "        plt.colorbar()\n",
    "        plt.xlabel('units')\n",
    "        plt.ylabel('imgs')\n",
    "        plt.subplot(222)\n",
    "        plt.imshow(Y_large_rdm)\n",
    "        plt.title(f\"rdm - {layer_}:\\n pref BigInanimate (n={len(pref_large_obj_idx)} units)\")\n",
    "        plt.colorbar()\n",
    "        plt.xlabel('imgs')\n",
    "        plt.ylabel('imgs')\n",
    "        plt.subplot(223)\n",
    "        plt.imshow(Y_small,aspect='auto')\n",
    "        plt.title(f\"activations - {layer_}:\\n pref SmallInanimate (n={len(pref_small_obj_idx)} units)\")\n",
    "        plt.colorbar()\n",
    "        plt.xlabel('units')\n",
    "        plt.ylabel('imgs')\n",
    "        plt.subplot(224)\n",
    "        plt.imshow(Y_small_rdm)\n",
    "        plt.title(f\"rdm - {layer_}:\\n pref SmallInanimate (n={len(pref_small_obj_idx)} units)\")\n",
    "        plt.colorbar()\n",
    "        plt.xlabel('imgs')\n",
    "        plt.ylabel('imgs')\n",
    "        plt.savefig(join(output_fig_dir,f'{layer}_bigsmall_pref_unit_acts_and_rdms.png'))\n",
    "        plt.close()\n",
    "        \n",
    "        fn_large = join(output_rdm_dir, f'pref_BigInanimate_{layer}_rdm.npy')\n",
    "        fn_small = join(output_rdm_dir, f'pref_SmallInanimate_{layer}_rdm.npy')\n",
    "    \n",
    "        np.save(fn_large, Y_large_rdm)\n",
    "        np.save(fn_small, Y_small_rdm)\n",
    "                \n",
    "        Y_large_means = np.mean(Y_large,axis=1)\n",
    "        Y_small_means = np.mean(Y_small,axis=1)\n",
    "        \n",
    "        plt.figure(figsize=(12,8))\n",
    "        plt.subplot(121)\n",
    "        sns.boxplot(data=[Y_large_means[:108],\n",
    "                     Y_large_means[108:216],\n",
    "                     Y_large_means[216:324],\n",
    "                     Y_large_means[324:]])\n",
    "\n",
    "        plt.xticks(np.arange(4),np.array(['BigManip','BigNonManip','SmallManip','SmallNonManip']),rotation=45)\n",
    "        plt.title(f\"{layer_}:\\n pref BigInanimate (n={len(pref_large_obj_idx)} units)\")\n",
    "        plt.ylabel('mean activation')\n",
    "        plt.subplot(122)\n",
    "        sns.boxplot(data=[Y_small_means[:108],\n",
    "                     Y_small_means[108:216],\n",
    "                     Y_small_means[216:324],\n",
    "                     Y_small_means[324:]])\n",
    "        plt.xticks(np.arange(4),np.array(['BigManip','BigNonManip','SmallManip','SmallNonManip']),rotation=45)\n",
    "        plt.title(f\"{layer_}:\\n pref SmallInanimate (n={len(pref_small_obj_idx)} units)\")\n",
    "        plt.ylabel('mean activation')\n",
    "        \n",
    "        fig_fn = join(output_fig_dir, f'{layer}_size-manip_categ_univariate.png')\n",
    "\n",
    "        plt.savefig(fig_fn)\n",
    "        plt.close()\n",
    "        "
   ]
  }
 ],
 "metadata": {
  "kernelspec": {
   "display_name": "Python 3",
   "language": "python",
   "name": "python3"
  },
  "language_info": {
   "codemirror_mode": {
    "name": "ipython",
    "version": 3
   },
   "file_extension": ".py",
   "mimetype": "text/x-python",
   "name": "python",
   "nbconvert_exporter": "python",
   "pygments_lexer": "ipython3",
   "version": "3.6.9"
  }
 },
 "nbformat": 4,
 "nbformat_minor": 4
}
