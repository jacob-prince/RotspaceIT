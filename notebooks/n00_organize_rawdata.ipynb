{
 "cells": [
  {
   "cell_type": "code",
   "execution_count": 49,
   "metadata": {},
   "outputs": [],
   "source": [
    "# goals:\n",
    "# for each neural dataset, get the data into a reasonable format"
   ]
  },
  {
   "cell_type": "markdown",
   "metadata": {},
   "source": [
    "## import relevant libraries"
   ]
  },
  {
   "cell_type": "code",
   "execution_count": 104,
   "metadata": {},
   "outputs": [],
   "source": [
    "import numpy as np\n",
    "import pandas as pd\n",
    "import nibabel as nib\n",
    "import os\n",
    "from os import listdir\n",
    "from os.path import isfile, join, exists\n",
    "import matplotlib.pyplot as plt\n",
    "import nilearn.plotting as plotting\n",
    "from sklearn.decomposition import PCA\n",
    "from sklearn.linear_model import LinearRegression\n",
    "from sklearn.metrics import r2_score\n",
    "from scipy.spatial.distance import pdist, squareform,cosine,euclidean,mahalanobis\n",
    "from statsmodels.stats.multitest import multipletests\n",
    "import scipy.io as sio\n",
    "import scipy.stats as stats\n",
    "from IPython.core.debugger import set_trace\n",
    "from tqdm import tqdm\n",
    "import time\n"
   ]
  },
  {
   "cell_type": "markdown",
   "metadata": {},
   "source": [
    "## hyperparameters"
   ]
  },
  {
   "cell_type": "code",
   "execution_count": 105,
   "metadata": {},
   "outputs": [],
   "source": [
    "home_dir = '/home/jacobpri/git/RotspaceIT/'\n",
    "dataset = 'Cohen2017'"
   ]
  },
  {
   "cell_type": "markdown",
   "metadata": {},
   "source": [
    "## dataset-specific opts"
   ]
  },
  {
   "cell_type": "code",
   "execution_count": 106,
   "metadata": {},
   "outputs": [],
   "source": [
    "opts = dict()\n",
    "if dataset == 'Cohen2017':\n",
    "    opts['datatypes_avail'] = ['rdv']\n",
    "    opts['levels_avail'] = ['categ']\n",
    "    opts['data_fn'] = 'RoiRsa_reordered.mat'\n",
    "    opts['struct_name'] = 'R'\n",
    "    opts['roi_fieldname'] = 'roiList'\n",
    "    opts['data_fieldname'] = 'roiRsaSubCube'\n",
    "    opts['categ_strs'] = ['faces','cats','bodies','cars','hammers','phones','chairs','buildings']\n",
    "    opts['plot_order'] = np.array([0,2,1,4,6,7,5,3])\n",
    "elif dataset == 'Baker2018':\n",
    "    opts['data_avail'] = ['categ','item']"
   ]
  },
  {
   "cell_type": "markdown",
   "metadata": {},
   "source": [
    "## load fMRI data"
   ]
  },
  {
   "cell_type": "code",
   "execution_count": 109,
   "metadata": {},
   "outputs": [
    {
     "name": "stdout",
     "output_type": "stream",
     "text": [
      "['FFA' 'OFA' 'FBA' 'EBA' 'LO' 'PPA' 'TOS' 'MT' 'VentralOTC' 'LateralOTC'\n",
      " 'OPC' 'EarlyV2' 'VentralOTCRemoved' 'LateralOTCRemoved' 'OPCRemoved'\n",
      " 'EarlyV2Removed']\n",
      "(16, 6, 28)\n",
      "(16, 28)\n"
     ]
    }
   ],
   "source": [
    "data_dir = join(home_dir,'data','d01_rawdata',dataset)\n",
    "save_dir = join(home_dir,'data','d03_processing',dataset)\n",
    "\n",
    "assert(exists(data_dir))\n",
    "if not exists(save_dir):\n",
    "    os.makedirs(save_dir)\n",
    "    \n",
    "fmri = dict()\n",
    "\n",
    "assert(exists(data_dir))\n",
    "\n",
    "if dataset == 'Cohen2017':\n",
    "    \n",
    "    # dataset \n",
    "    X = sio.loadmat(join(data_dir,opts['data_fn']))[opts['struct_name']]\n",
    "\n",
    "    # 16 ROIs\n",
    "    roi_list = np.concatenate(X[opts['roi_fieldname']][0][0][0])\n",
    "    print(roi_list)\n",
    "    \n",
    "    # ROIs x subjects x categ pairs\n",
    "    roi_rsa_subcube = X[opts['data_fieldname']][0][0]\n",
    "    print(roi_rsa_subcube.shape)\n",
    "    \n",
    "    # save this\n",
    "    \n",
    "    # average over subjects\n",
    "    roi_rsa_submean = np.nanmean(roi_rsa_subcube,axis=1)\n",
    "    print(roi_rsa_submean.shape)\n",
    "    \n",
    "    # dictionary of category RDVs by roi. fmri[roi][data][level] (e.g. fmri['FFA']['rdv']['item'])\n",
    "    for r in range(len(roi_list)):\n",
    "        \n",
    "        roi = roi_list[r]\n",
    "        fmri[roi] = dict()\n",
    "        \n",
    "        for datatype in opts['datatypes_avail']:\n",
    "            \n",
    "            fmri[roi][datatype] = dict()\n",
    "            \n",
    "            for level in opts['levels_avail']:\n",
    "                \n",
    "                fmri[roi][datatype][level] = roi_rsa_submean[r]\n",
    "    \n",
    "\n",
    "    # save relevant files\n",
    "    fn = join(save_dir,'fmri_roi_rsa_subcube.npy')\n",
    "    np.save(fn, roi_rsa_subcube)\n",
    "    \n",
    "    fn = join(save_dir,'fmri_roi_rsa_submean.npy')\n",
    "    np.save(fn, fmri)\n",
    "    \n",
    "    fn = join(save_dir, 'roi_list.npy')\n",
    "    np.save(fn, roi_list)\n",
    "    \n",
    "    \n",
    "elif dataset == 'Baker2017':\n",
    "    \n",
    "    pass"
   ]
  },
  {
   "cell_type": "code",
   "execution_count": 108,
   "metadata": {},
   "outputs": [
    {
     "name": "stdout",
     "output_type": "stream",
     "text": [
      "[[1.         0.81185753]\n",
      " [0.81185753 1.        ]]\n"
     ]
    }
   ],
   "source": [
    "print(np.corrcoef(fmri['FFA']['rdv']['categ'],fmri['PPA']['rdv']['categ']))"
   ]
  },
  {
   "cell_type": "code",
   "execution_count": null,
   "metadata": {},
   "outputs": [],
   "source": [
    "def rsm2rdm(matrix):\n",
    "    return ((matrix - 1) * -1)\n",
    "\n",
    "fmri_dir = '/home/jacobpri/RotspaceIT/CohenfMRIData/'\n",
    "\n",
    "Cohen = sio.loadmat(join(fmri_dir,'RoiRsa_reordered.mat'))['R']\n",
    "#print(Cohen)\n",
    "roi_list = Cohen['roiList'][0]\n",
    "\n",
    "FFA_idx = 0\n",
    "PPA_idx = 5\n",
    "#print(roi_list)\n",
    "#print(Cohen)\n",
    "print(Cohen['roiRsaSubCube'][0,0].shape)\n",
    "R = Cohen['roiRsaSubCube'][0,0]\n",
    "print(R.shape)\n",
    "R_ = np.nanmean(R,axis=1)\n",
    "print(R_.shape)\n",
    "subj_FFA_rdv = R_[FFA_idx,:]\n",
    "subj_PPA_rdv = R_[PPA_idx,:]\n",
    "print(subj_FFA_rdv.shape)\n",
    "#Cohen['roiCondRSA'].shape\n",
    "#plt.figure()\n",
    "#plt.imshow(subj_FFA_rdv,aspect='auto',clim=(0,1.5))\n",
    "#plt.colorbar()\n",
    "\n",
    "avg_FFA_rdv = subj_FFA_rdv#np.nanmean(subj_FFA_rdv,axis=0)\n",
    "avg_PPA_rdv = subj_PPA_rdv#np.nanmean(subj_PPA_rdv,axis=0)\n",
    "print(avg_FFA_rdv.shape)\n",
    "\n",
    "print(np.corrcoef(avg_FFA_rdv,avg_PPA_rdv)[0,1])\n",
    "\n",
    "plt.figure()\n",
    "plt.subplot(121)\n",
    "plt.imshow(squareform(rsm2rdm(avg_FFA_rdv)))\n",
    "plt.subplot(122)\n",
    "plt.imshow(squareform(rsm2rdm(avg_PPA_rdv)))"
   ]
  }
 ],
 "metadata": {
  "kernelspec": {
   "display_name": "Python 3",
   "language": "python",
   "name": "python3"
  },
  "language_info": {
   "codemirror_mode": {
    "name": "ipython",
    "version": 3
   },
   "file_extension": ".py",
   "mimetype": "text/x-python",
   "name": "python",
   "nbconvert_exporter": "python",
   "pygments_lexer": "ipython3",
   "version": "3.6.9"
  }
 },
 "nbformat": 4,
 "nbformat_minor": 4
}
