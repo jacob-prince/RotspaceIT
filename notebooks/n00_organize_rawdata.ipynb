{
 "cells": [
  {
   "cell_type": "code",
   "execution_count": 49,
   "metadata": {},
   "outputs": [],
   "source": [
    "# goals:\n",
    "# for each neural dataset, get the data into a reasonable format"
   ]
  },
  {
   "cell_type": "markdown",
   "metadata": {},
   "source": [
    "## import relevant libraries"
   ]
  },
  {
   "cell_type": "code",
   "execution_count": 57,
   "metadata": {},
   "outputs": [],
   "source": [
    "import numpy as np\n",
    "import pandas as pd\n",
    "import nibabel as nib\n",
    "import os\n",
    "from os import listdir\n",
    "from os.path import isfile, join, exists\n",
    "import matplotlib.pyplot as plt\n",
    "import nilearn.plotting as plotting\n",
    "from sklearn.decomposition import PCA\n",
    "from sklearn.linear_model import LinearRegression\n",
    "from sklearn.metrics import r2_score\n",
    "from scipy.spatial.distance import pdist, squareform,cosine,euclidean,mahalanobis\n",
    "from statsmodels.stats.multitest import multipletests\n",
    "import scipy.io as sio\n",
    "import scipy.stats as stats\n",
    "from IPython.core.debugger import set_trace\n",
    "from tqdm import tqdm\n",
    "import time\n",
    "from addict import Dict"
   ]
  },
  {
   "cell_type": "markdown",
   "metadata": {},
   "source": [
    "## hyperparameters"
   ]
  },
  {
   "cell_type": "code",
   "execution_count": 51,
   "metadata": {},
   "outputs": [],
   "source": [
    "home_dir = '/home/jacobpri/git/RotspaceIT/'\n",
    "dataset = 'Cohen2017'"
   ]
  },
  {
   "cell_type": "markdown",
   "metadata": {},
   "source": [
    "## dataset-specific opts"
   ]
  },
  {
   "cell_type": "code",
   "execution_count": 82,
   "metadata": {},
   "outputs": [],
   "source": [
    "opts = Dict()\n",
    "if dataset == 'Cohen2017':\n",
    "    opts.data_avail = ['categ']\n",
    "    opts.data_fn = 'RoiRsa_reordered.mat'\n",
    "    opts.struct_name = 'R'\n",
    "    opts.roi_fieldname = 'roiList'\n",
    "    opts.data_fieldname = 'roiRsaSubCube'\n",
    "    opts.categ_strs = ['faces','cats','bodies','cars','hammers','phones','chairs','buildings']\n",
    "    opts.plot_order = np.array([0,2,1,4,6,7,5,3])\n",
    "elif dataset == 'Baker2018':\n",
    "    opts.data_avail = ['categ','item']"
   ]
  },
  {
   "cell_type": "markdown",
   "metadata": {},
   "source": [
    "## load fMRI data"
   ]
  },
  {
   "cell_type": "code",
   "execution_count": 83,
   "metadata": {},
   "outputs": [
    {
     "name": "stdout",
     "output_type": "stream",
     "text": [
      "[array(['FFA'], dtype='<U3') array(['OFA'], dtype='<U3')\n",
      " array(['FBA'], dtype='<U3') array(['EBA'], dtype='<U3')\n",
      " array(['LO'], dtype='<U2') array(['PPA'], dtype='<U3')\n",
      " array(['TOS'], dtype='<U3') array(['MT'], dtype='<U2')\n",
      " array(['VentralOTC'], dtype='<U10') array(['LateralOTC'], dtype='<U10')\n",
      " array(['OPC'], dtype='<U3') array(['EarlyV2'], dtype='<U7')\n",
      " array(['VentralOTCRemoved'], dtype='<U17')\n",
      " array(['LateralOTCRemoved'], dtype='<U17')\n",
      " array(['OPCRemoved'], dtype='<U10')\n",
      " array(['EarlyV2Removed'], dtype='<U14')]\n",
      "(16, 6, 28)\n"
     ]
    }
   ],
   "source": [
    "data_dir = join(home_dir,'data','d01_rawdata',dataset)\n",
    "save_dir = join(home_dir,'data','d02_processed',dataset)\n",
    "\n",
    "assert(exists(data_dir))\n",
    "if not exists(save_dir):\n",
    "    os.makedirs(save_dir)\n",
    "    \n",
    "fmri = dict()\n",
    "\n",
    "assert(exists(data_dir))\n",
    "\n",
    "if dataset == 'Cohen2017':\n",
    "    \n",
    "    # dataset \n",
    "    X = sio.loadmat(join(data_dir,opts.data_fn))[opts.struct_name]\n",
    "\n",
    "    # 16 ROIs\n",
    "    roi_list = X[opts.roi_fieldname][0][0][0]\n",
    "    print(roi_list)\n",
    "    \n",
    "    # ROIs x subjects x categ pairs\n",
    "    roi_rsa_subcube = X[opts.data_fieldname][0][0]\n",
    "    print(roi_rsa_subcube.shape)\n",
    "    \n",
    "    # save this\n",
    "    \n",
    "    # average over subjects\n",
    "    roi_rsa_submean = np.nanmean(roi_rsa_subcube,axis=1)\n",
    "    \n",
    "    # dictionary of category RDVs by \n",
    "    for roi in roi_list:\n",
    "        fmri[roi[0]] = dict()\n",
    "    \n",
    "    \n",
    "elif dataset == 'Baker2017':\n",
    "    \n",
    "    pass"
   ]
  },
  {
   "cell_type": "code",
   "execution_count": 81,
   "metadata": {},
   "outputs": [
    {
     "name": "stdout",
     "output_type": "stream",
     "text": [
      "{'FFA': {}, 'OFA': {}, 'FBA': {}, 'EBA': {}, 'LO': {}, 'PPA': {}, 'TOS': {}, 'MT': {}, 'VentralOTC': {}, 'LateralOTC': {}, 'OPC': {}, 'EarlyV2': {}, 'VentralOTCRemoved': {}, 'LateralOTCRemoved': {}, 'OPCRemoved': {}, 'EarlyV2Removed': {}}\n"
     ]
    }
   ],
   "source": [
    "print(fmri)"
   ]
  },
  {
   "cell_type": "code",
   "execution_count": null,
   "metadata": {},
   "outputs": [],
   "source": [
    "def rsm2rdm(matrix):\n",
    "    return ((matrix - 1) * -1)\n",
    "\n",
    "fmri_dir = '/home/jacobpri/RotspaceIT/CohenfMRIData/'\n",
    "\n",
    "Cohen = sio.loadmat(join(fmri_dir,'RoiRsa_reordered.mat'))['R']\n",
    "#print(Cohen)\n",
    "roi_list = Cohen['roiList'][0]\n",
    "\n",
    "FFA_idx = 0\n",
    "PPA_idx = 5\n",
    "#print(roi_list)\n",
    "#print(Cohen)\n",
    "print(Cohen['roiRsaSubCube'][0,0].shape)\n",
    "R = Cohen['roiRsaSubCube'][0,0]\n",
    "print(R.shape)\n",
    "R_ = np.nanmean(R,axis=1)\n",
    "print(R_.shape)\n",
    "subj_FFA_rdv = R_[FFA_idx,:]\n",
    "subj_PPA_rdv = R_[PPA_idx,:]\n",
    "print(subj_FFA_rdv.shape)\n",
    "#Cohen['roiCondRSA'].shape\n",
    "#plt.figure()\n",
    "#plt.imshow(subj_FFA_rdv,aspect='auto',clim=(0,1.5))\n",
    "#plt.colorbar()\n",
    "\n",
    "avg_FFA_rdv = subj_FFA_rdv#np.nanmean(subj_FFA_rdv,axis=0)\n",
    "avg_PPA_rdv = subj_PPA_rdv#np.nanmean(subj_PPA_rdv,axis=0)\n",
    "print(avg_FFA_rdv.shape)\n",
    "\n",
    "print(np.corrcoef(avg_FFA_rdv,avg_PPA_rdv)[0,1])\n",
    "\n",
    "plt.figure()\n",
    "plt.subplot(121)\n",
    "plt.imshow(squareform(rsm2rdm(avg_FFA_rdv)))\n",
    "plt.subplot(122)\n",
    "plt.imshow(squareform(rsm2rdm(avg_PPA_rdv)))"
   ]
  }
 ],
 "metadata": {
  "kernelspec": {
   "display_name": "Python 3",
   "language": "python",
   "name": "python3"
  },
  "language_info": {
   "codemirror_mode": {
    "name": "ipython",
    "version": 3
   },
   "file_extension": ".py",
   "mimetype": "text/x-python",
   "name": "python",
   "nbconvert_exporter": "python",
   "pygments_lexer": "ipython3",
   "version": "3.6.9"
  }
 },
 "nbformat": 4,
 "nbformat_minor": 4
}
