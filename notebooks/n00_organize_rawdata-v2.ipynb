{
 "cells": [
  {
   "cell_type": "code",
   "execution_count": 12,
   "metadata": {},
   "outputs": [],
   "source": [
    "# goals:\n",
    "# for each neural dataset, get the data into a reasonable format"
   ]
  },
  {
   "cell_type": "markdown",
   "metadata": {},
   "source": [
    "## import relevant libraries"
   ]
  },
  {
   "cell_type": "code",
   "execution_count": 13,
   "metadata": {},
   "outputs": [
    {
     "data": {
      "text/plain": [
       "<module 'RotspaceIT.rsatools' from '/home/jacobpri/git/RotspaceIT/RotspaceIT/rsatools.py'>"
      ]
     },
     "execution_count": 13,
     "metadata": {},
     "output_type": "execute_result"
    }
   ],
   "source": [
    "import numpy as np\n",
    "import pandas as pd\n",
    "import nibabel as nib\n",
    "import os\n",
    "import sys\n",
    "from os import listdir\n",
    "from os.path import isfile, join, exists\n",
    "import matplotlib.pyplot as plt\n",
    "import nilearn.plotting as plotting\n",
    "from sklearn.decomposition import PCA\n",
    "from sklearn.linear_model import LinearRegression\n",
    "from sklearn.metrics import r2_score\n",
    "from scipy.spatial.distance import pdist, squareform,cosine,euclidean,mahalanobis\n",
    "from statsmodels.stats.multitest import multipletests\n",
    "import scipy.io as sio\n",
    "import scipy.stats as stats\n",
    "from IPython.core.debugger import set_trace\n",
    "from tqdm import tqdm\n",
    "import time\n",
    "import importlib\n",
    "import seaborn as sns\n",
    "\n",
    "sys.path.append('/home/jacobpri/git/RotspaceIT/')\n",
    "from RotspaceIT import rsatools as rsa\n",
    "\n",
    "importlib.reload(rsa)\n"
   ]
  },
  {
   "cell_type": "markdown",
   "metadata": {},
   "source": [
    "## hyperparameters"
   ]
  },
  {
   "cell_type": "code",
   "execution_count": 14,
   "metadata": {},
   "outputs": [],
   "source": [
    "home_dir = '/home/jacobpri/git/RotspaceIT/'\n",
    "dataset = 'Cohen2017'"
   ]
  },
  {
   "cell_type": "markdown",
   "metadata": {},
   "source": [
    "## dataset-specific opts"
   ]
  },
  {
   "cell_type": "code",
   "execution_count": 15,
   "metadata": {},
   "outputs": [],
   "source": [
    "opts = dict()\n",
    "if dataset == 'Cohen2017':\n",
    "    opts['datatypes_avail'] = ['univar','rdv']\n",
    "    opts['levels_avail'] = ['categ']\n",
    "    opts['data_fn'] = 'RoiRsa_reordered.mat'\n",
    "    opts['struct_name'] = 'R'\n",
    "    opts['roi_fieldname'] = 'roiList'\n",
    "    opts['univar_fieldname'] = 'roiCondMeans'\n",
    "    opts['rdv_fieldname'] = 'roiRsaSubCube'\n",
    "    opts['categ_strs'] = np.array(['faces','cats','bodies','cars','hammers','phones','chairs','buildings'])\n",
    "    opts['plot_order'] = np.array([0,2,1,4,6,7,5,3])\n",
    "elif dataset == 'Baker2018':\n",
    "    opts['datatypes_avail'] = ['rdv']\n",
    "    opts['levels_avail'] = ['categ']\n",
    "    opts['data_fn'] = 'Baker.mat'\n",
    "    opts['struct_name'] = 'Baker'\n",
    "    opts['roi_fieldname'] = 'roiList'\n",
    "    opts['univar_fieldname'] = []\n",
    "    opts['rdv_fieldname'] = []\n",
    "    opts['categ_strs'] = []\n",
    "    opts['plot_order'] = []"
   ]
  },
  {
   "cell_type": "markdown",
   "metadata": {},
   "source": [
    "## load fMRI data"
   ]
  },
  {
   "cell_type": "code",
   "execution_count": 16,
   "metadata": {},
   "outputs": [
    {
     "name": "stdout",
     "output_type": "stream",
     "text": [
      "['FFA' 'OFA' 'FBA' 'EBA' 'LO' 'PPA' 'TOS' 'MT' 'VentralOTC' 'LateralOTC'\n",
      " 'OPC' 'EarlyV2' 'VentralOTCRemoved' 'LateralOTCRemoved' 'OPCRemoved'\n",
      " 'EarlyV2Removed']\n",
      "(16, 6, 8)\n",
      "(16, 6, 28)\n",
      "(16, 8)\n",
      "(16, 28)\n"
     ]
    }
   ],
   "source": [
    "data_dir = join('/user_data','jacobpri','Project','RotspaceIT','data','d01_rawdata',dataset)\n",
    "save_dir = join(home_dir,'data','d03_processing',dataset)\n",
    "\n",
    "assert(exists(data_dir))\n",
    "if not exists(save_dir):\n",
    "    os.makedirs(save_dir)\n",
    "    \n",
    "fmri = dict()\n",
    "\n",
    "assert(exists(data_dir))\n",
    "\n",
    "if dataset == 'Cohen2017':\n",
    "    \n",
    "    # dataset \n",
    "    X = sio.loadmat(join(data_dir,opts['data_fn']))[opts['struct_name']]\n",
    "    \n",
    "    # 16 ROIs\n",
    "    roi_list = np.concatenate(X[opts['roi_fieldname']][0][0][0])\n",
    "    print(roi_list)\n",
    "    \n",
    "    # ROIs x subjects x categ pairs\n",
    "    roi_univar_subcube = X[opts['univar_fieldname']][0][0]\n",
    "    print(roi_univar_subcube.shape)\n",
    "    \n",
    "    roi_rsa_subcube = X[opts['rdv_fieldname']][0][0]\n",
    "    print(roi_rsa_subcube.shape)\n",
    "    \n",
    "    # save this\n",
    "    \n",
    "    # average over subjects\n",
    "    roi_univar_submean = np.nanmean(roi_univar_subcube,axis=1)\n",
    "    print(roi_univar_submean.shape)\n",
    "    \n",
    "    roi_rsa_submean = np.nanmean(roi_rsa_subcube,axis=1)\n",
    "    print(roi_rsa_submean.shape)\n",
    "    \n",
    "    # dictionary of category RDVs by roi. fmri[roi][data][level] (e.g. fmri['FFA']['rdv']['item'])\n",
    "    for r in range(len(roi_list)):\n",
    "        \n",
    "        roi = roi_list[r]\n",
    "        fmri[roi] = dict()\n",
    "        \n",
    "        for datatype in opts['datatypes_avail']:\n",
    "            \n",
    "            fmri[roi][datatype] = dict()\n",
    "            \n",
    "            for level in opts['levels_avail']:\n",
    "                \n",
    "                if datatype == 'univar':\n",
    "                    fmri[roi][datatype][level] = roi_univar_submean[r]\n",
    "                elif datatype == 'rdv':\n",
    "                    fmri[roi][datatype][level] = rsa.rsm2rdm(roi_rsa_submean[r]) # FLIP FROM SIM TO DISSIM\n",
    "    \n",
    "\n",
    "    # save relevant files\n",
    "    #fn = join(save_dir,'fmri_roi_rsa_subcube.npy')\n",
    "    #np.save(fn, roi_rsa_subcube)\n",
    "    \n",
    "    fn = join(save_dir,'fmri_roidata_submean.npy')\n",
    "    np.save(fn, fmri)\n",
    "    \n",
    "    fn = join(save_dir, 'roi_list.npy')\n",
    "    np.save(fn, roi_list)\n",
    "    \n",
    "    \n",
    "elif dataset == 'Baker2018':\n",
    "    \n",
    "    data_dir = join(home_dir,'data','d01_rawdata',dataset)\n",
    "    save_dir = join(home_dir,'data','d03_processing',dataset)\n",
    "\n",
    "    roi_list = ['FFA','PPA']\n",
    "    \n",
    "    for roi in roi_list:\n",
    "        fmri[roi] = dict()\n",
    "        X = sio.loadmat(join(data_dir,f'Baker_{roi}_RDM_categ_both'))[f'Baker_{roi}_RDM_categ_both']\n",
    "        \n",
    "        for datatype in opts['datatypes_avail']:\n",
    "            \n",
    "            fmri[roi][datatype] = dict()\n",
    "            \n",
    "            for level in opts['levels_avail']:\n",
    "                \n",
    "                if datatype == 'univar':\n",
    "                    pass\n",
    "                elif datatype == 'rdv':\n",
    "                    fmri[roi][datatype][level] = rsa.m2v(X) # FLIP FROM RDM to RDV\n",
    "    \n",
    "\n",
    "    # save relevant files\n",
    "    #fn = join(save_dir,'fmri_roi_rsa_subcube.npy')\n",
    "    #np.save(fn, roi_rsa_subcube)\n",
    "    \n",
    "    fn = join(save_dir,'fmri_roidata_submean.npy')\n",
    "    np.save(fn, fmri)\n",
    "    \n",
    "    fn = join(save_dir, 'roi_list.npy')\n",
    "    np.save(fn, roi_list)"
   ]
  },
  {
   "cell_type": "code",
   "execution_count": 17,
   "metadata": {},
   "outputs": [
    {
     "data": {
      "text/plain": [
       "array([[0.        , 0.16563835, 0.08880824, 0.30911428, 0.17701856,\n",
       "        0.24211344, 0.21088889, 0.21113799],\n",
       "       [0.16563835, 0.        , 0.09493638, 0.31928501, 0.16356578,\n",
       "        0.14211037, 0.11550473, 0.18149842],\n",
       "       [0.08880824, 0.09493638, 0.        , 0.31020508, 0.16648295,\n",
       "        0.19051192, 0.15559046, 0.21151001],\n",
       "       [0.30911428, 0.31928501, 0.31020508, 0.        , 0.15369883,\n",
       "        0.15585741, 0.22566185, 0.14318346],\n",
       "       [0.17701856, 0.16356578, 0.16648295, 0.15369883, 0.        ,\n",
       "        0.09706995, 0.10109991, 0.08497287],\n",
       "       [0.24211344, 0.14211037, 0.19051192, 0.15585741, 0.09706995,\n",
       "        0.        , 0.09780855, 0.10527253],\n",
       "       [0.21088889, 0.11550473, 0.15559046, 0.22566185, 0.10109991,\n",
       "        0.09780855, 0.        , 0.0940297 ],\n",
       "       [0.21113799, 0.18149842, 0.21151001, 0.14318346, 0.08497287,\n",
       "        0.10527253, 0.0940297 , 0.        ]])"
      ]
     },
     "execution_count": 17,
     "metadata": {},
     "output_type": "execute_result"
    }
   ],
   "source": [
    "rsa.v2m(fmri['FFA']['rdv']['categ'])"
   ]
  },
  {
   "cell_type": "code",
   "execution_count": 18,
   "metadata": {},
   "outputs": [
    {
     "name": "stdout",
     "output_type": "stream",
     "text": [
      "[[0.         0.08880824 0.16563835 0.17701856 0.21088889 0.21113799\n",
      "  0.24211344 0.30911428]\n",
      " [0.08880824 0.         0.09493638 0.16648295 0.15559046 0.21151001\n",
      "  0.19051192 0.31020508]\n",
      " [0.16563835 0.09493638 0.         0.16356578 0.11550473 0.18149842\n",
      "  0.14211037 0.31928501]\n",
      " [0.17701856 0.16648295 0.16356578 0.         0.10109991 0.08497287\n",
      "  0.09706995 0.15369883]\n",
      " [0.21088889 0.15559046 0.11550473 0.10109991 0.         0.0940297\n",
      "  0.09780855 0.22566185]\n",
      " [0.21113799 0.21151001 0.18149842 0.08497287 0.0940297  0.\n",
      "  0.10527253 0.14318346]\n",
      " [0.24211344 0.19051192 0.14211037 0.09706995 0.09780855 0.10527253\n",
      "  0.         0.15585741]\n",
      " [0.30911428 0.31020508 0.31928501 0.15369883 0.22566185 0.14318346\n",
      "  0.15585741 0.        ]]\n"
     ]
    },
    {
     "data": {
      "image/png": "[encoded data removed]",
      "text/plain": [
       "<Figure size 432x288 with 3 Axes>"
      ]
     },
     "metadata": {
      "needs_background": "light"
     },
     "output_type": "display_data"
    }
   ],
   "source": [
    "plt.figure()\n",
    "mat = rsa.v2m(fmri['FFA']['rdv']['categ'])\n",
    "i = np.diag_indices(mat.shape[0])\n",
    "mat[i] = 0\n",
    "if dataset == 'Cohen2017':\n",
    "    mat = mat[opts['plot_order']]#\n",
    "    mat = mat[:,opts['plot_order']]\n",
    "vals = mat[:]\n",
    "print(vals)\n",
    "minv = np.min(vals[vals!=0])-0.025\n",
    "maxv = np.min([np.max(vals[vals!=0]+0.025), 1.2])\n",
    "plt.imshow(mat,clim=(minv,maxv))\n",
    "plt.colorbar()\n",
    "plt.show()\n",
    "\n",
    "triu = np.triu_indices(mat.shape[0])\n",
    "data = mat\n",
    "\n",
    "masked_array = np.ma.masked_where(np.triu(mat), data)\n",
    "\n",
    "cmap = plt.cm.viridis  # Can be any colormap that you want after the cm\n",
    "cmap.set_bad(color='white')\n",
    "\n",
    "plt.imshow(masked_array, cmap=cmap, clim=(minv,maxv))\n",
    "plt.axis('off')\n",
    "plt.colorbar()\n",
    "plt.show()\n",
    "\n"
   ]
  },
  {
   "cell_type": "code",
   "execution_count": 19,
   "metadata": {},
   "outputs": [
    {
     "name": "stdout",
     "output_type": "stream",
     "text": [
      "[[1.         0.81185753]\n",
      " [0.81185753 1.        ]]\n"
     ]
    }
   ],
   "source": [
    "print(np.corrcoef(fmri['FFA']['rdv']['categ'],fmri['PPA']['rdv']['categ']))"
   ]
  },
  {
   "cell_type": "code",
   "execution_count": 20,
   "metadata": {},
   "outputs": [
    {
     "data": {
      "image/png": "[encoded data removed]",
      "text/plain": [
       "<Figure size 432x288 with 1 Axes>"
      ]
     },
     "metadata": {
      "needs_background": "light"
     },
     "output_type": "display_data"
    }
   ],
   "source": [
    "plt.figure()\n",
    "vec = fmri['FFA']['univar']['categ'][opts['plot_order']]\n",
    "plt.bar(np.arange(8),vec)\n",
    "plt.xticks(np.arange(8),opts['categ_strs']);\n",
    "plt.show()\n"
   ]
  },
  {
   "cell_type": "code",
   "execution_count": 21,
   "metadata": {},
   "outputs": [
    {
     "name": "stdout",
     "output_type": "stream",
     "text": [
      "(16, 6, 28)\n",
      "(16, 6, 28)\n",
      "(16, 28)\n",
      "(28,)\n",
      "(28,)\n",
      "0.8118575265004265\n"
     ]
    },
    {
     "data": {
      "text/plain": [
       "<matplotlib.image.AxesImage at 0x7f50a0c33278>"
      ]
     },
     "execution_count": 21,
     "metadata": {},
     "output_type": "execute_result"
    },
    {
     "data": {
      "image/png": "[encoded data removed]",
      "text/plain": [
       "<Figure size 432x288 with 2 Axes>"
      ]
     },
     "metadata": {
      "needs_background": "light"
     },
     "output_type": "display_data"
    }
   ],
   "source": [
    "def rsm2rdm(X):\n",
    "    return ((X - 1) * -1)\n",
    "\n",
    "fmri_dir = '/home/jacobpri/RotspaceIT/CohenfMRIData/'\n",
    "\n",
    "Cohen = sio.loadmat(join(fmri_dir,'RoiRsa_reordered.mat'))['R']\n",
    "#print(Cohen)\n",
    "roi_list = Cohen['roiList'][0]\n",
    "\n",
    "FFA_idx = 0\n",
    "PPA_idx = 5\n",
    "#print(roi_list)\n",
    "#print(Cohen)\n",
    "print(Cohen['roiRsaSubCube'][0,0].shape)\n",
    "R = Cohen['roiRsaSubCube'][0,0]\n",
    "print(R.shape)\n",
    "R_ = np.nanmean(R,axis=1)\n",
    "print(R_.shape)\n",
    "subj_FFA_rdv = R_[FFA_idx,:]\n",
    "subj_PPA_rdv = R_[PPA_idx,:]\n",
    "print(subj_FFA_rdv.shape)\n",
    "#Cohen['roiCondRSA'].shape\n",
    "#plt.figure()\n",
    "#plt.imshow(subj_FFA_rdv,aspect='auto',clim=(0,1.5))\n",
    "#plt.colorbar()\n",
    "\n",
    "avg_FFA_rdv = subj_FFA_rdv#np.nanmean(subj_FFA_rdv,axis=0)\n",
    "avg_PPA_rdv = subj_PPA_rdv#np.nanmean(subj_PPA_rdv,axis=0)\n",
    "print(avg_FFA_rdv.shape)\n",
    "\n",
    "print(np.corrcoef(avg_FFA_rdv,avg_PPA_rdv)[0,1])\n",
    "\n",
    "plt.figure()\n",
    "plt.subplot(121)\n",
    "plt.imshow(squareform(rsm2rdm(avg_FFA_rdv)))\n",
    "plt.subplot(122)\n",
    "plt.imshow(squareform(rsm2rdm(avg_PPA_rdv)))"
   ]
  },
  {
   "cell_type": "code",
   "execution_count": null,
   "metadata": {},
   "outputs": [],
   "source": []
  }
 ],
 "metadata": {
  "kernelspec": {
   "display_name": "Python 3",
   "language": "python",
   "name": "python3"
  },
  "language_info": {
   "codemirror_mode": {
    "name": "ipython",
    "version": 3
   },
   "file_extension": ".py",
   "mimetype": "text/x-python",
   "name": "python",
   "nbconvert_exporter": "python",
   "pygments_lexer": "ipython3",
   "version": "3.6.9"
  }
 },
 "nbformat": 4,
 "nbformat_minor": 4
}
