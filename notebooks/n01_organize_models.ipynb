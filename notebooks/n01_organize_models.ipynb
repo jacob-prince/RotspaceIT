{
 "cells": [
  {
   "cell_type": "markdown",
   "metadata": {},
   "source": [
    "## imports"
   ]
  },
  {
   "cell_type": "code",
   "execution_count": 6,
   "metadata": {},
   "outputs": [],
   "source": [
    "import numpy as np\n",
    "import matplotlib.pyplot as plt\n",
    "import pandas as pd\n",
    "import scipy.stats as stats\n",
    "import os\n",
    "from os.path import join, exists\n",
    "import sys\n",
    "import torch\n",
    "import torchvision\n",
    "import torchvision.transforms as transforms\n",
    "import torchvision.models as models\n",
    "import torchvision.datasets as datasets\n",
    "from torch.autograd import Variable as V\n",
    "from torch.nn import functional as F\n",
    "import torch.nn  as nn\n",
    "from PIL import Image\n",
    "from IPython.core.debugger import set_trace\n",
    "import nethook as nethook\n",
    "import scipy.io as sio\n",
    "from tqdm import tqdm\n",
    "import time"
   ]
  },
  {
   "cell_type": "markdown",
   "metadata": {},
   "source": [
    "## hyperparameters"
   ]
  },
  {
   "cell_type": "code",
   "execution_count": 7,
   "metadata": {},
   "outputs": [],
   "source": [
    "arch = 'AlexNet'\n",
    "imageset = 'MC8-LumMatched'\n",
    "imgtype = 'experimental'"
   ]
  },
  {
   "cell_type": "markdown",
   "metadata": {},
   "source": [
    "## directory management"
   ]
  },
  {
   "cell_type": "code",
   "execution_count": 9,
   "metadata": {},
   "outputs": [
    {
     "name": "stdout",
     "output_type": "stream",
     "text": [
      "save destination: /home/jacobpri/git/RotspaceIT/data/d02_modeling/activations/AlexNet/MC8-LumMatched\n"
     ]
    }
   ],
   "source": [
    "home_dir = '/home/jacobpri/git/RotspaceIT/'\n",
    "\n",
    "# target directory for saving activations\n",
    "activation_savedir = join(home_dir,'data','d02_modeling','activations')\n",
    "\n",
    "# folder of trained model weights\n",
    "weight_dir = join(home_dir,'data','d02_modeling','weights')\n",
    "\n",
    "# folder of image sets\n",
    "imageset_dir = join(home_dir,'imagesets',imgtype)\n",
    "\n",
    "# create savedir if it doesn't yet exist \n",
    "savedir = os.path.join(activation_savedir, arch, imageset)\n",
    "if not os.path.exists(savedir): os.makedirs(savedir)\n",
    "print(\"save destination: %s\" % savedir)\n",
    "\n",
    "assert(exists(imageset_dir))\n",
    "assert(exists(weight_dir))"
   ]
  },
  {
   "cell_type": "markdown",
   "metadata": {},
   "source": [
    "## load architecture"
   ]
  },
  {
   "cell_type": "code",
   "execution_count": null,
   "metadata": {},
   "outputs": [],
   "source": []
  },
  {
   "cell_type": "markdown",
   "metadata": {},
   "source": [
    "## convert to instrumented model"
   ]
  },
  {
   "cell_type": "code",
   "execution_count": null,
   "metadata": {},
   "outputs": [],
   "source": []
  },
  {
   "cell_type": "markdown",
   "metadata": {},
   "source": [
    "## retain all layers"
   ]
  },
  {
   "cell_type": "code",
   "execution_count": null,
   "metadata": {},
   "outputs": [],
   "source": []
  }
 ],
 "metadata": {
  "kernelspec": {
   "display_name": "Python 3",
   "language": "python",
   "name": "python3"
  },
  "language_info": {
   "codemirror_mode": {
    "name": "ipython",
    "version": 3
   },
   "file_extension": ".py",
   "mimetype": "text/x-python",
   "name": "python",
   "nbconvert_exporter": "python",
   "pygments_lexer": "ipython3",
   "version": "3.6.9"
  }
 },
 "nbformat": 4,
 "nbformat_minor": 4
}
