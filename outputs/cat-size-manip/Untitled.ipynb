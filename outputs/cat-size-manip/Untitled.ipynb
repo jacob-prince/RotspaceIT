{
 "cells": [
  {
   "cell_type": "code",
   "execution_count": 4,
   "metadata": {},
   "outputs": [],
   "source": [
    "import numpy as np\n",
    "import pandas as pd\n",
    "import nibabel as nib\n",
    "import os\n",
    "import sys\n",
    "from os import listdir\n",
    "from os.path import isfile, join, exists\n",
    "from scipy.spatial.distance import pdist, squareform\n",
    "import scipy.io as sio\n",
    "import scipy.stats as stats\n",
    "from tqdm import tqdm\n",
    "import time\n",
    "import pymatreader\n",
    "from IPython.core.debugger import set_trace\n",
    "import copy\n",
    "import h5py\n",
    "\n",
    "import matplotlib.pyplot as plt"
   ]
  },
  {
   "cell_type": "code",
   "execution_count": 7,
   "metadata": {},
   "outputs": [],
   "source": [
    "homedir = join('/home','jacobpri','git','RotspaceIT', 'outputs', 'cat-size-manip')\n",
    "savedir = join(homedir,'matlab')"
   ]
  },
  {
   "cell_type": "code",
   "execution_count": 10,
   "metadata": {},
   "outputs": [],
   "source": [
    "for subdir in ['activations', 'rdms']:\n",
    "    fns = os.listdir(join(homedir,subdir))\n",
    "    for fn in fns:\n",
    "        X = {'X': np.load(join(homedir,subdir,fn))}\n",
    "        sio.savemat(join(savedir,subdir,fn.split('.')[0] + '.mat'),X)"
   ]
  },
  {
   "cell_type": "code",
   "execution_count": null,
   "metadata": {},
   "outputs": [],
   "source": []
  }
 ],
 "metadata": {
  "kernelspec": {
   "display_name": "Python 3",
   "language": "python",
   "name": "python3"
  },
  "language_info": {
   "codemirror_mode": {
    "name": "ipython",
    "version": 3
   },
   "file_extension": ".py",
   "mimetype": "text/x-python",
   "name": "python",
   "nbconvert_exporter": "python",
   "pygments_lexer": "ipython3",
   "version": "3.6.9"
  }
 },
 "nbformat": 4,
 "nbformat_minor": 4
}
